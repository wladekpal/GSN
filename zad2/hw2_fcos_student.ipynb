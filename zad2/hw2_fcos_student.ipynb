{
 "cells": [
  {
   "cell_type": "markdown",
   "metadata": {
    "id": "6VBJpAMzglRo"
   },
   "source": [
    "# Anchor-free single-stage object detection with FCOS (v2)\n",
    "\n",
    "In this exercise your goal will be to solve an object detection training and prediction task using the anchor-free single-stage approach.\n",
    "\n",
    "There are 10 points to get in total.\n",
    "\n",
    "## TLDR; overview\n",
    "\n",
    "In this task one should:\n",
    "- build an object detection model using the variant of `FCOS`,\n",
    "- train an object detection model.\n",
    "\n",
    "Hints and comments:\n",
    "\n",
    "- Model architecture and loss are heavily inspired by [FCOS](https://arxiv.org/pdf/1904.01355.pdf) paper,\n",
    "- you can freely subclass and extend the interface of classes in this exercise,\n",
    "- be sure that you understand the concept of anchor-free object detection. There are many tutorials and articles about it (e.g. [this](https://medium.com/swlh/fcos-walkthrough-the-fully-convolutional-approach-to-object-detection-777f614268c) one)."
   ]
  },
  {
   "cell_type": "markdown",
   "metadata": {
    "id": "SLp6CRRQa9m8"
   },
   "source": [
    "### Notebook changelog (compared to the initial version)\n",
    "Changed in v2:\n",
    "- Added definition of $\\sigma$ in the scoring formula.\n",
    "- Added the description how the `target` variable should look like.\n",
    "- Fixed the typo about mismatched `in_channels` and `out_channels` in the classification head description and added the whole info about it in the regression head description.\n",
    "- Added information about 1-element batch.\n",
    "- Fixed typehint in `BackboneWithFPN` (`forward(self, x: MnistCanvas)` -> `forward(self, x: torch.Tensor)`)\n",
    "- Removed info about non-existing exercise (\"...so use the foreground mask from the previous excercise.\" -> \"... so use the foreground mask.\")\n",
    "- Fixed typo: \"use `self.box_coder.decode_single` and `self.box_coder.decode_single`\" -> use \"`self.box_coder.encode_single` and `self.box_coder.decode_single`\"\n",
    "- Removed mentions of non-existing `TargetDecoder.get_predictions` and rotation.\n",
    "- Removed additional TODO placeholder from detection post-processing.\n",
    "- Added the information about using the different `evaluate` parameters."
   ]
  },
  {
   "cell_type": "markdown",
   "metadata": {
    "id": "5PsyO2OdlLLE"
   },
   "source": [
    "### Data description\n",
    "\n",
    "In this task we will paste bounding boxes with digits **from 1 to 5** randomly selected from `MNIST` dataset on a canvas of size `(128, 128)` and **randomly scaled by a factor between 0.5 and 1.0**. We assume that:\n",
    "\n",
    "- the two boxes from a canvas should have no more than `0.1` of `iou` overlap,\n",
    "- the digits are fully contained in canvas,\n",
    "- boxes are modeled using `MnistBox` class,\n",
    "- canvas is modeled using `MnistCanvas` class.\n",
    "\n",
    "Let us have a look at definition of these classes:"
   ]
  },
  {
   "cell_type": "code",
   "execution_count": 55,
   "metadata": {
    "id": "L1rAdIiRq2G8"
   },
   "outputs": [],
   "source": [
    "from typing import List\n",
    "from typing import Optional\n",
    "from typing import Tuple\n",
    "\n",
    "import matplotlib.pyplot as plt\n",
    "import matplotlib.patches as patches\n",
    "import numpy as np\n",
    "import torch\n",
    "\n",
    "\n",
    "DEVICE = torch.device('cuda' if torch.cuda.is_available() else 'cpu')\n",
    "\n",
    "class MnistBox:\n",
    "\n",
    "    def __init__(\n",
    "        self,\n",
    "        x_min: int,\n",
    "        y_min: int,\n",
    "        x_max: int,\n",
    "        y_max: int,\n",
    "        class_nb: Optional[int] = None,\n",
    "        rotated: Optional[bool] = None,\n",
    "    ):\n",
    "        self.x_min = x_min\n",
    "        self.x_max = x_max\n",
    "        self.y_min = y_min\n",
    "        self.y_max = y_max\n",
    "        self.class_nb = class_nb\n",
    "        self.rotated = rotated\n",
    "    \n",
    "    @property\n",
    "    def x_diff(self):\n",
    "        return self.x_max - self.x_min\n",
    "    \n",
    "    @property\n",
    "    def y_diff(self):\n",
    "        return self.y_max - self.y_min\n",
    "\n",
    "    def __repr__(self):\n",
    "        return f'Mnist Box: x_min = {self.x_min},' +\\\n",
    "               f' x_max = {self.x_max}, y_min = {self.y_min},' +\\\n",
    "               f' y_max = {self.y_max}. Class = {self.class_nb}.' +\\\n",
    "               f' Rotated = {self.rotated}.'\n",
    "\n",
    "    def plot_on_ax(self, ax, color: Optional[str] = 'r'):\n",
    "        ax.add_patch(\n",
    "            patches.Rectangle(\n",
    "                (self.y_min, self.x_min),\n",
    "                 self.y_diff,\n",
    "                 self.x_diff,\n",
    "                 linewidth=1,\n",
    "                 edgecolor=color,\n",
    "                 facecolor='none',\n",
    "            )\n",
    "        )\n",
    "        ax.text(\n",
    "            self.y_min,\n",
    "            self.x_min,\n",
    "            f'{self.class_nb}' if not self.rotated else f'{self.class_nb}*',\n",
    "            bbox={\"facecolor\": color, \"alpha\": 0.4},\n",
    "            clip_box=ax.clipbox,\n",
    "            clip_on=True,\n",
    "        )\n",
    "\n",
    "    @property\n",
    "    def area(self):\n",
    "        return max((self.x_max - self.x_min), 0) * max((self.y_max - self.y_min), 0)\n",
    "\n",
    "    def iou_with(self, other_box: \"MnistBox\"):\n",
    "        aux_box = MnistBox(\n",
    "            x_min=max(self.x_min, other_box.x_min),\n",
    "            x_max=min(self.x_max, other_box.x_max),\n",
    "            y_min=max(self.y_min, other_box.y_min),\n",
    "            y_max=min(self.y_max, other_box.y_max),\n",
    "        ) \n",
    "        return aux_box.area / (self.area + other_box.area - aux_box.area)\n",
    "\n",
    "\n",
    "class MnistCanvas:\n",
    "\n",
    "    def __init__(\n",
    "        self,\n",
    "        image: np.ndarray,\n",
    "        boxes: List[MnistBox],\n",
    "    ):\n",
    "        self.image = image\n",
    "        self.boxes = boxes\n",
    "        self.shape = (1, 1, self.image.shape[0], self.image.shape[1])\n",
    "\n",
    "    def add_digit(\n",
    "        self,\n",
    "        digit: np.ndarray,\n",
    "        class_nb: int,\n",
    "        x_min: int,\n",
    "        y_min: int,\n",
    "        rotated=None,\n",
    "        iou_threshold=0.1,\n",
    "    ) -> bool:\n",
    "        \"\"\"\n",
    "        Add a digit to an image if it does not overlap with existing boxes\n",
    "        above iou_threshold.\n",
    "        \"\"\"\n",
    "        image_x, image_y = digit.shape\n",
    "        if x_min >= self.image.shape[0] and y_min >= self.image.shape[1]:\n",
    "            raise ValueError('Wrong initial corner box')\n",
    "        new_box_x_min = x_min\n",
    "        new_box_y_min = y_min\n",
    "        new_box_x_max = min(x_min + image_x, self.image.shape[0])\n",
    "        new_box_y_max = min(y_min + image_y, self.image.shape[1])\n",
    "        new_box = MnistBox(\n",
    "            x_min=new_box_x_min,\n",
    "            x_max=new_box_x_max,\n",
    "            y_min=new_box_y_min,\n",
    "            y_max=new_box_y_max,\n",
    "            class_nb=class_nb,\n",
    "            rotated=rotated,\n",
    "        )\n",
    "        old_background = self.image[\n",
    "            new_box_x_min:new_box_x_max,\n",
    "            new_box_y_min:new_box_y_max\n",
    "        ]\n",
    "        for box in self.boxes:\n",
    "            if new_box.iou_with(box) > iou_threshold:\n",
    "                return False\n",
    "        self.image[\n",
    "            new_box_x_min:new_box_x_max,\n",
    "            new_box_y_min:new_box_y_max\n",
    "        ] = np.maximum(old_background, digit)\n",
    "        self.boxes.append(\n",
    "            new_box\n",
    "        ) \n",
    "        return True\n",
    "        \n",
    "    def get_torch_tensor(self) -> torch.Tensor:\n",
    "        np_image = self.image.astype('float32')\n",
    "        np_image = np_image.reshape(\n",
    "            (1, 1, self.image.shape[0], self.image.shape[1])\n",
    "        )\n",
    "        return torch.from_numpy(np_image).to(DEVICE)\n",
    "\n",
    "    @classmethod\n",
    "    def get_empty_of_size(cls, size: Tuple[int, int]):\n",
    "        return cls(\n",
    "            image=np.zeros(size),\n",
    "            boxes=[],\n",
    "        )\n",
    "\n",
    "    def plot(self, boxes: Optional[List[MnistBox]] = None):\n",
    "        fig, ax = plt.subplots()\n",
    "        ax.imshow(self.image)\n",
    "        boxes = boxes or self.boxes\n",
    "        for box in boxes:\n",
    "            box.plot_on_ax(ax)\n",
    "        plt.show()"
   ]
  },
  {
   "cell_type": "markdown",
   "metadata": {
    "id": "NWMxgsgFtlze"
   },
   "source": [
    "Each canvas has 3-6 boxes with randomly selected digits. The digits for training data are from first 10K examples from `MNIST` train data. The digits for test data are selected from first 1K examples from `MNIST` test data. The Dataset is generated using the following functions:"
   ]
  },
  {
   "cell_type": "code",
   "execution_count": 56,
   "metadata": {
    "id": "HezSZXw4z-cx"
   },
   "outputs": [],
   "source": [
    "from keras.datasets import mnist\n",
    "import numpy as np\n",
    "import skimage.transform as st\n",
    "\n",
    "\n",
    "mnist_data = mnist.load_data()\n",
    "(mnist_x_train, mnist_y_train), (mnist_x_test, mnist_y_test) = mnist_data\n",
    "\n",
    "\n",
    "def crop_insignificant_values(digit:np.ndarray, threshold=0.1):\n",
    "    bool_digit = digit > threshold\n",
    "    x_range = bool_digit.max(axis=0)\n",
    "    y_range = bool_digit.max(axis=1)\n",
    "    start_x = (x_range.cumsum() == 0).sum()\n",
    "    end_x = (x_range[::-1].cumsum() == 0).sum()\n",
    "    start_y = (y_range.cumsum() == 0).sum()\n",
    "    end_y = (y_range[::-1].cumsum() == 0).sum()\n",
    "    return digit[start_y:-end_y - 1, start_x:-end_x - 1]\n",
    "\n",
    "\n",
    "TRAIN_DIGITS = [\n",
    "    crop_insignificant_values(digit) / 255.0\n",
    "    for digit_index, digit in enumerate(mnist_x_train[:10000])\n",
    "]\n",
    "TRAIN_CLASSES = mnist_y_train[:10000]\n",
    "\n",
    "TEST_DIGITS = [\n",
    "    crop_insignificant_values(digit) / 255.0\n",
    "    for digit_index, digit in enumerate(mnist_x_test[:1000])\n",
    "]\n",
    "TEST_CLASSES = mnist_y_test[:1000]\n",
    "\n",
    "\n",
    "def get_random_canvas(\n",
    "    digits: Optional[List[np.ndarray]] = None,\n",
    "    classes: Optional[List[int]] = None,\n",
    "    nb_of_digits: Optional[int] = None,\n",
    "    labels = [0, 1, 2, 3, 4]\n",
    "    ):\n",
    "    digits = digits if digits is not None else TRAIN_DIGITS\n",
    "    classes = classes if classes is not None else TRAIN_CLASSES\n",
    "    nb_of_digits = nb_of_digits if nb_of_digits is not None else np.random.randint(low=3, high=6 + 1)\n",
    "    new_canvas = MnistCanvas.get_empty_of_size(size=(128, 128))\n",
    "    attempts_done = 0\n",
    "    while attempts_done < nb_of_digits:\n",
    "        current_digit_index = np.random.randint(len(digits))\n",
    "        current_digit_class = classes[current_digit_index]\n",
    "        if current_digit_class not in labels:\n",
    "            continue\n",
    "        rescale = np.random.random() > 0.5\n",
    "        current_digit = digits[current_digit_index]\n",
    "        if rescale:\n",
    "            factor = (np.random.random() / 2) + 0.5\n",
    "            current_digit = st.resize(\n",
    "                current_digit, \n",
    "                (int(current_digit.shape[0] * factor), int(current_digit.shape[1] * factor)))\n",
    "            # current_digit = np.rot90(current_digit)\n",
    "        random_x_min = np.random.randint(0, 128 - current_digit.shape[0] - 3)\n",
    "        random_y_min = np.random.randint(0, 128 - current_digit.shape[1] - 3)\n",
    "        if new_canvas.add_digit(\n",
    "            digit=current_digit,\n",
    "            x_min=random_x_min,\n",
    "            y_min=random_y_min,\n",
    "            class_nb=current_digit_class,\n",
    "            rotated=rescale,\n",
    "        ):\n",
    "            attempts_done += 1\n",
    "    return new_canvas"
   ]
  },
  {
   "cell_type": "markdown",
   "metadata": {
    "id": "5i2OjUEC7eaC"
   },
   "source": [
    "Let us have a look at example canvas (rescaled digits have additional *added to description)."
   ]
  },
  {
   "cell_type": "code",
   "execution_count": 57,
   "metadata": {
    "colab": {
     "base_uri": "https://localhost:8080/",
     "height": 268
    },
    "id": "OsLpINOtvhd8",
    "outputId": "b812333a-16f3-4f52-b104-c132dbb0201a"
   },
   "outputs": [
    {
     "data": {
      "image/png": "[encoded data removed]",
      "text/plain": [
       "<Figure size 432x288 with 1 Axes>"
      ]
     },
     "metadata": {
      "needs_background": "light"
     },
     "output_type": "display_data"
    }
   ],
   "source": [
    "mnist_canvas = get_random_canvas()\n",
    "mnist_canvas.plot()"
   ]
  },
  {
   "cell_type": "markdown",
   "metadata": {
    "id": "OgU2bKyJ3pVh"
   },
   "source": [
    "For training one can either:\n",
    "- generate `TRAIN_CANVAS` similarly to `TEST_CANVAS` creation,\n",
    "- use the fact that `get_random_canvas()` generates a random train canvas and generate training data on-the-fly."
   ]
  },
  {
   "cell_type": "markdown",
   "metadata": {
    "id": "_GpJZUkDGJSi"
   },
   "source": [
    "### Model building (5 pt.)\n",
    "\n",
    "\n",
    "One should build a model for digit detection in $\\texttt{pytorch}$. Model should consist of:"
   ]
  },
  {
   "cell_type": "markdown",
   "metadata": {
    "id": "5qdCBH9PkT2C"
   },
   "source": [
    "#### $\\texttt{backbone}$:\n",
    "\n",
    "We provided you with a backbone model architecture paired with Feature Pyramid Network (`BackboneWithFPN`) that accepts a `MnistCanvas` instance and output a dictionary, which has a FPN group name as a keys and their tensors as value.\n",
    "For a FPN with strides set to [32, 64, 128] and number of output channels set to 64, the sizes of the tensors will be [1, 64, 128, 128], [1, 64, 64, 64], [1, 64, 32, 32] consecutively. This module should be trained together with the rest of your solution."
   ]
  },
  {
   "cell_type": "code",
   "execution_count": 58,
   "metadata": {
    "id": "kXco8riNGHhl"
   },
   "outputs": [],
   "source": [
    "from collections import OrderedDict\n",
    "from torch import nn, Tensor\n",
    "from torchvision.ops.feature_pyramid_network import FeaturePyramidNetwork\n",
    "\n",
    "\n",
    "class Backbone(torch.nn.Module):\n",
    "    def __init__(self, strides = [8, 16, 32]):\n",
    "        super().__init__()\n",
    "        \n",
    "        self.first_block = torch.nn.Sequential(\n",
    "            nn.Conv2d(1, strides[0], (3, 3), padding=1),\n",
    "            nn.ReLU(),\n",
    "        )\n",
    "        \n",
    "        self.blocks = torch.nn.ModuleList(\n",
    "            [torch.nn.Sequential(*[\n",
    "                nn.Conv2d(strides[i-1], strides[i], (3, 3), padding=1),\n",
    "                nn.ReLU(),\n",
    "                nn.MaxPool2d(2, 2),\n",
    "              ]) for i in range(1, len(strides))\n",
    "            ]\n",
    "        )\n",
    "\n",
    "    def forward(self, x: torch.Tensor) -> torch.Tensor:\n",
    "        image = x.to(DEVICE).view(1, 1, 128, 128)\n",
    "        x = self.first_block(image)\n",
    "        aux = [x]\n",
    "        for block in self.blocks:\n",
    "            x = block(aux[-1])\n",
    "            aux.append(x)\n",
    "        return aux\n",
    "\n",
    "\n",
    "class BackboneWithFPN(torch.nn.Module):\n",
    "    def __init__(self, strides, out_channels=32) -> None:\n",
    "        super().__init__()\n",
    "        self.strides = strides\n",
    "        self.out_channels = out_channels\n",
    "        self.backbone = Backbone(self.strides)\n",
    "        self.fpn = FeaturePyramidNetwork(self.strides, self.out_channels)\n",
    "\n",
    "    def forward(self, x: torch.Tensor):\n",
    "        output_backbone = self.backbone(x)\n",
    "        \n",
    "        x = OrderedDict()\n",
    "        for i, f in enumerate(output_backbone):\n",
    "            x[f'feat{i}'] = f\n",
    "        output_fpn = self.fpn(x)\n",
    "        return output_fpn"
   ]
  },
  {
   "cell_type": "markdown",
   "metadata": {
    "id": "JkOLl12nkiI8"
   },
   "source": [
    "#### $\\texttt{anchor generator}$:\n",
    "\n",
    "FCOS is anchor-free in a typical sense of this word, but it can also be said that there is one pixel-wise \"anchor\" per localisation on a given feature map.\n",
    "Therefore, anchor generator from `torchvision` is used for convenience.\n",
    "You will obtain $128^2 + 64^2 + 32^2 = 21504$ locations in total for the previously chosen strides.\n",
    "They will be called anchors in the code."
   ]
  },
  {
   "cell_type": "code",
   "execution_count": 59,
   "metadata": {
    "colab": {
     "base_uri": "https://localhost:8080/"
    },
    "id": "Dyd2-zOxf9VM",
    "outputId": "90f66c8e-3207-4a26-e42f-651b56962a95"
   },
   "outputs": [
    {
     "data": {
      "text/plain": [
       "[1, 1, 1]"
      ]
     },
     "execution_count": 59,
     "metadata": {},
     "output_type": "execute_result"
    }
   ],
   "source": [
    "# example code - anchor generator is already included in the code later\n",
    "from torchvision.models.detection.anchor_utils import AnchorGenerator\n",
    "\n",
    "anchor_sizes = ((32,), (64,), (128,))  # equal to strides of FPN multi-level feature map\n",
    "aspect_ratios = ((1.0,),) * len(anchor_sizes)  # set only one anchor for each level\n",
    "anchor_generator = AnchorGenerator(anchor_sizes, aspect_ratios)\n",
    "anchor_generator.num_anchors_per_location()\n",
    "# notice that effectively one anchor is one location"
   ]
  },
  {
   "cell_type": "code",
   "execution_count": 60,
   "metadata": {
    "id": "iM3oSesif-F5"
   },
   "outputs": [],
   "source": [
    "# Later in the code you will use the anchor generator in the following way:\n",
    "# anchors = anchor_generator(images, features)\n",
    "# [x.size(2) * x.size(3) for x in features] # recover level sizes"
   ]
  },
  {
   "cell_type": "markdown",
   "metadata": {
    "id": "MTYyCuMdmBk7"
   },
   "source": [
    "#### $\\texttt{FCOSClassificationHead}$ (1 pt.):\n",
    "\n",
    "Write a classification head to be used in FCOS.\n",
    "The input is is the output of `BackboneWithFPN` forward call.\n",
    "This module should contain $n$ blocks with `nn.Conv2d`, `nn.GroupNorm`, and `nn.ReLU` each (in the paper, $n=4$).\n",
    "Each convolutional layer should input and output `self.in_channels` channels.\n",
    "The additional final block should be `nn.Conv2d` outputting `C` channels.\n",
    "The final output should consist of classification logits of shape `(N, A, C)`, where `N` means the number of samples in a batch, `A` is the sum of all FPN strides (21504 in the aforementioned case), and `C` is the number of classes."
   ]
  },
  {
   "cell_type": "code",
   "execution_count": 61,
   "metadata": {
    "id": "kpDP9QVjnn05"
   },
   "outputs": [],
   "source": [
    "class FCOSClassificationHead(nn.Module):\n",
    "    def __init__(\n",
    "        self,\n",
    "        in_channels: int,\n",
    "        num_classes: int,\n",
    "        num_convs: int = 4,\n",
    "    ) -> None:\n",
    "        super().__init__()\n",
    "\n",
    "        # TODO: your code here\n",
    "        ################################################################################################\n",
    "        self.conv_blocks = nn.Sequential()\n",
    "        for i in range(num_convs):\n",
    "          self.conv_blocks.append(nn.Sequential(\n",
    "            nn.Conv2d(\n",
    "              in_channels=in_channels,\n",
    "              out_channels=in_channels,\n",
    "              kernel_size=3,\n",
    "              padding=1,\n",
    "            ),\n",
    "            nn.GroupNorm(in_channels, in_channels), #TODO: gropu numbers\n",
    "            nn.ReLU()\n",
    "          ))\n",
    "\n",
    "          self.final_block = nn.Conv2d(\n",
    "            in_channels=in_channels,\n",
    "            out_channels=num_classes,\n",
    "            kernel_size=3,\n",
    "            padding=1,\n",
    "          )\n",
    "        ################################################################################################\n",
    "        # end of your code\n",
    "\n",
    "    def forward(self, x: List[Tensor]) -> Tensor:\n",
    "        # TODO: your code here\n",
    "        ################################################################################################\n",
    "        final_out = []\n",
    "        for pyramid_out in x:\n",
    "          head_out = pyramid_out\n",
    "          head_out = self.conv_blocks(head_out)\n",
    "          head_out = self.final_block(head_out)\n",
    "          # shape of head_out should be [N, C, H, W], we want to flatten it\n",
    "          head_out = torch.flatten(head_out, start_dim = 2)\n",
    "          # then we want to changes axes, so it has correct shape\n",
    "          head_out = torch.swapaxes(head_out, 1, 2)\n",
    "          final_out.append(head_out)\n",
    "\n",
    "        # Finally we concatenate outs from each pyramid by anchor dimension\n",
    "        return torch.cat(final_out, dim=1)\n",
    "        \n",
    "        ################################################################################################\n",
    "        # end of your code\n"
   ]
  },
  {
   "cell_type": "markdown",
   "metadata": {
    "id": "QcHAnQy2mFJU"
   },
   "source": [
    "#### $\\texttt{FCOSRegressionHead}$  (1 pt.):\n",
    "\n",
    "Write a regression head to be used in FCOS - both for bounding boxes and center-ness.\n",
    "The input is the output of `BackboneWithFPN` forward call.\n",
    "This module should contain $n$ blocks with `nn.Conv2d`, `nn.GroupNorm`, and `nn.ReLU` each (in the paper, $n=4$), which will be shared for regression and center-ness.\n",
    "Each convolutional layer should input and output `self.in_channels` channels.\n",
    "The final block for bounding box regression should be `nn.Conv2d` and have `4` channels and it should be followed by relu functional to get rid of negative values.\n",
    "The final block for center-ness regression should be `nn.Conv2d` and have `1` channel.\n",
    "The output should consist of a tuple of tensors (bounding box regression and center-ness).\n",
    "Bounding box regression logits should be of shape `(N, A, 4)`, whereas for center-ness that would be `(N, A, 1)`.\n",
    "Similarly, `N` means the number of samples in a batch, `A` is the sum of all FPN strides (21504 in the aforementioned case), and `C` is the number of classes."
   ]
  },
  {
   "cell_type": "code",
   "execution_count": 62,
   "metadata": {
    "id": "3H6KNzi1mEhg"
   },
   "outputs": [],
   "source": [
    "class FCOSRegressionHead(nn.Module):\n",
    "    def __init__(\n",
    "        self,\n",
    "        in_channels: int,\n",
    "        num_convs: int = 4,\n",
    "    ):\n",
    "        super().__init__()\n",
    "        # TODO: your code here\n",
    "        ################################################################################################\n",
    "        self.conv_blocks = nn.Sequential()\n",
    "        for i in range(num_convs):\n",
    "          self.conv_blocks.append(nn.Sequential(\n",
    "            nn.Conv2d(\n",
    "              in_channels=in_channels,\n",
    "              out_channels=in_channels,\n",
    "              kernel_size=3,\n",
    "              padding=1,\n",
    "            ),\n",
    "            nn.GroupNorm(in_channels, in_channels),\n",
    "            nn.ReLU()\n",
    "          ))\n",
    "\n",
    "        self.bounding_block = nn.Sequential(\n",
    "          nn.Conv2d(\n",
    "            in_channels=in_channels,\n",
    "            out_channels=4,\n",
    "            kernel_size=3,\n",
    "            padding=1,\n",
    "          ),\n",
    "          nn.ReLU()\n",
    "        )\n",
    "\n",
    "        self.centerness_block = nn.Conv2d(\n",
    "          in_channels=in_channels,\n",
    "          out_channels=1,\n",
    "          kernel_size=3,\n",
    "          padding=1,\n",
    "        )\n",
    "        \n",
    "        # end of your code\n",
    "        ################################################################################################\n",
    "        \n",
    "\n",
    "    def forward(self, x: List[Tensor]) -> Tuple[Tensor, Tensor]:\n",
    "        # TODO: your code here\n",
    "        ################################################################################################\n",
    "        final_bounding = []\n",
    "        final_centerness = []\n",
    "        for pyramid_out in x:\n",
    "          # Here we do basically the same thing as in previous head, \n",
    "          # except we split the output into two paths.\n",
    "          head_out = pyramid_out\n",
    "          head_out = self.conv_blocks(head_out)\n",
    "          bounding = self.bounding_block(head_out)\n",
    "          centerness = self.centerness_block(head_out)\n",
    "\n",
    "          bounding = torch.flatten(bounding, start_dim = 2)\n",
    "          bounding = torch.swapaxes(bounding, 1, 2)\n",
    "          final_bounding.append(bounding)\n",
    "\n",
    "          centerness = torch.flatten(centerness, start_dim = 2)\n",
    "          centerness = torch.swapaxes(centerness, 1, 2)\n",
    "          final_centerness.append(centerness)\n",
    "\n",
    "        return (torch.cat(final_bounding, dim=1), torch.cat(final_centerness, dim=1))\n",
    "        \n",
    "        ################################################################################################\n",
    "        # end of your code"
   ]
  },
  {
   "cell_type": "markdown",
   "metadata": {
    "id": "ds0I47ydkvUL"
   },
   "source": [
    "#### $\\texttt{FCOSHead}$ (2 pt.):\n",
    "\n",
    "Here, the computation of the foreground indices and losses takes place.\n",
    "\n",
    "##### Loss calculation\n",
    "Compute the losses. \n",
    "They should be calculated on the positive locations/anchors, so use the foreground mask.\n",
    "For regression, use `self.box_coder.encode_single` and `self.box_coder.decode_single` to move between standard (x, y, x, y) and FCOS (l, t, r, b) bounding box format.\n",
    "There are three losses to be written.\n",
    "- classification loss (with `torchvision.ops.sigmoid_focal_loss`). (1 pt.)\n",
    "- Bounding box regression (with `torchvision.ops.generalized_box_iou_loss`). Decode predictions with `self.box_coder.decode_single` before regressing against the ground truth. (1 pt.)\n",
    "- ctrness loss (`torchvision.ops.sigmoid_focal_loss`). Use Equation 3 from the paper to calculate the grond truth for the center-ness. (2 pt.)"
   ]
  },
  {
   "cell_type": "code",
   "execution_count": 63,
   "metadata": {
    "id": "PX8P0s-jOK-F"
   },
   "outputs": [],
   "source": [
    "class BoxLinearCoder:\n",
    "    \"\"\"\n",
    "    The linear box-to-box transform defined in FCOS. The transformation is parameterized\n",
    "    by the distance from the center of (square) src box to 4 edges of the target box.\n",
    "    \"\"\"\n",
    "\n",
    "    def __init__(self, normalize_by_size: bool = True) -> None:\n",
    "        \"\"\"\n",
    "        Args:\n",
    "            normalize_by_size (bool): normalize deltas by the size of src (anchor) boxes.\n",
    "        \"\"\"\n",
    "        self.normalize_by_size = normalize_by_size\n",
    "\n",
    "    def encode_single(self, reference_boxes: Tensor, proposals: Tensor) -> Tensor:\n",
    "        \"\"\"\n",
    "        Encode a set of proposals with respect to some reference boxes\n",
    "\n",
    "        Args:\n",
    "            reference_boxes (Tensor): reference boxes\n",
    "            proposals (Tensor): boxes to be encoded\n",
    "\n",
    "        Returns:\n",
    "            Tensor: the encoded relative box offsets that can be used to\n",
    "            decode the boxes.\n",
    "        \"\"\"\n",
    "        # get the center of reference_boxes\n",
    "        reference_boxes_ctr_x = 0.5 * (reference_boxes[:, 0] + reference_boxes[:, 2])\n",
    "        reference_boxes_ctr_y = 0.5 * (reference_boxes[:, 1] + reference_boxes[:, 3])\n",
    "\n",
    "        # get box regression transformation deltas\n",
    "        target_l = reference_boxes_ctr_x - proposals[:, 0]\n",
    "        target_t = reference_boxes_ctr_y - proposals[:, 1]\n",
    "        target_r = proposals[:, 2] - reference_boxes_ctr_x\n",
    "        target_b = proposals[:, 3] - reference_boxes_ctr_y\n",
    "\n",
    "        targets = torch.stack((target_l, target_t, target_r, target_b), dim=1)\n",
    "        if self.normalize_by_size:\n",
    "            reference_boxes_w = reference_boxes[:, 2] - reference_boxes[:, 0]\n",
    "            reference_boxes_h = reference_boxes[:, 3] - reference_boxes[:, 1]\n",
    "            reference_boxes_size = torch.stack(\n",
    "                (reference_boxes_w, reference_boxes_h, reference_boxes_w, reference_boxes_h), dim=1\n",
    "            )\n",
    "            targets = targets / reference_boxes_size\n",
    "\n",
    "        return targets\n",
    "\n",
    "    def decode_single(self, rel_codes: Tensor, boxes: Tensor) -> Tensor:\n",
    "        \"\"\"\n",
    "        From a set of original boxes and encoded relative box offsets,\n",
    "        get the decoded boxes.\n",
    "\n",
    "        Args:\n",
    "            rel_codes (Tensor): encoded boxes\n",
    "            boxes (Tensor): reference boxes.\n",
    "\n",
    "        Returns:\n",
    "            Tensor: the predicted boxes with the encoded relative box offsets.\n",
    "        \"\"\"\n",
    "\n",
    "        boxes = boxes.to(rel_codes.dtype)\n",
    "\n",
    "        ctr_x = 0.5 * (boxes[:, 0] + boxes[:, 2])\n",
    "        ctr_y = 0.5 * (boxes[:, 1] + boxes[:, 3])\n",
    "        if self.normalize_by_size:\n",
    "            boxes_w = boxes[:, 2] - boxes[:, 0]\n",
    "            boxes_h = boxes[:, 3] - boxes[:, 1]\n",
    "            boxes_size = torch.stack((boxes_w, boxes_h, boxes_w, boxes_h), dim=1)\n",
    "            rel_codes = rel_codes * boxes_size\n",
    "\n",
    "        pred_boxes1 = ctr_x - rel_codes[:, 0]\n",
    "        pred_boxes2 = ctr_y - rel_codes[:, 1]\n",
    "        pred_boxes3 = ctr_x + rel_codes[:, 2]\n",
    "        pred_boxes4 = ctr_y + rel_codes[:, 3]\n",
    "        pred_boxes = torch.stack((pred_boxes1, pred_boxes2, pred_boxes3, pred_boxes4), dim=1)\n",
    "        return pred_boxes"
   ]
  },
  {
   "cell_type": "code",
   "execution_count": 64,
   "metadata": {
    "id": "nDX5c0lw9ZxM"
   },
   "outputs": [],
   "source": [
    "from collections import OrderedDict\n",
    "from functools import partial\n",
    "from typing import Dict, List, Tuple, Optional\n",
    "\n",
    "import torch\n",
    "from torch import nn, Tensor\n",
    "\n",
    "from torchvision.ops import sigmoid_focal_loss, generalized_box_iou_loss\n",
    "from torchvision.ops import boxes as box_ops\n",
    "from torchvision.models.detection.transform import GeneralizedRCNNTransform\n",
    "\n",
    "class FCOSHead(nn.Module):\n",
    "    \"\"\"\n",
    "    A regression and classification head for use in FCOS.\n",
    "\n",
    "    Args:\n",
    "        in_channels (int): number of channels of the input feature\n",
    "        num_classes (int): number of classes to be predicted\n",
    "        num_convs (Optional[int]): number of conv layer of head. Default: 4.\n",
    "    \"\"\"\n",
    "    def __init__(self, in_channels: int, num_classes: int, num_convs: Optional[int] = 4) -> None:\n",
    "        super().__init__()\n",
    "        self.box_coder = BoxLinearCoder(normalize_by_size=True)\n",
    "        self.classification_head = FCOSClassificationHead(in_channels, num_classes, num_convs)\n",
    "        self.regression_head = FCOSRegressionHead(in_channels, num_convs)\n",
    "\n",
    "    def compute_loss(\n",
    "        self,\n",
    "        targets: List[Dict[str, Tensor]],\n",
    "        head_outputs: Dict[str, Tensor],\n",
    "        anchors: List[Tensor],             # anchors/locations\n",
    "        matched_idxs: List[Tensor],        # tells to which bounding box anchors are matched, -1 mean no matches\n",
    "    ) -> Dict[str, Tensor]:\n",
    "\n",
    "        cls_logits = head_outputs[\"cls_logits\"]  # [N, A, C]\n",
    "        bbox_regression = head_outputs[\"bbox_regression\"]  # [N, A, 4]\n",
    "        bbox_ctrness = head_outputs[\"bbox_ctrness\"]  # [N, A, 1]\n",
    "\n",
    "        all_gt_classes_targets = []\n",
    "        all_gt_boxes_targets = []\n",
    "        \n",
    "        for targets_per_image, matched_idxs_per_image in zip(targets, matched_idxs):\n",
    "            gt_classes_targets = targets_per_image[\"labels\"][matched_idxs_per_image.clip(min=0)]\n",
    "            gt_boxes_targets = targets_per_image[\"boxes\"][matched_idxs_per_image.clip(min=0)]\n",
    "            gt_classes_targets[matched_idxs_per_image < 0] = -1  # background\n",
    "            all_gt_classes_targets.append(gt_classes_targets)\n",
    "            all_gt_boxes_targets.append(gt_boxes_targets)\n",
    "\n",
    "        all_gt_classes_targets = torch.stack(all_gt_classes_targets)\n",
    "        \n",
    "        foregroud_mask = all_gt_classes_targets >= 0        \n",
    "        num_foreground = foregroud_mask.sum().item()\n",
    "        \n",
    "        loss_cls = self.compute_loss_cls(cls_logits, all_gt_classes_targets, foregroud_mask)\n",
    "        loss_bbox_reg = self.compute_loss_bbox_reg(anchors, bbox_regression, all_gt_boxes_targets, foregroud_mask)\n",
    "        loss_bbox_ctrness = self.compute_loss_ctrness(anchors, bbox_ctrness, all_gt_boxes_targets, foregroud_mask)\n",
    "\n",
    "        return {\n",
    "            \"classification\": loss_cls / max(1, num_foreground),\n",
    "            \"bbox_regression\": loss_bbox_reg / max(1, num_foreground),\n",
    "            \"bbox_ctrness\": loss_bbox_ctrness / max(1, num_foreground),\n",
    "        }\n",
    "\n",
    "    def compute_loss_ctrness(self, anchors, bbox_ctrness, all_gt_boxes_targets, foregroud_mask):\n",
    "        # TODO: your code here \n",
    "        # ctrness loss\n",
    "        ################################################################################################\n",
    "\n",
    "        # First we squeeze all of inputs (we are working with batches of size one, so it is easier this way)\n",
    "        # Additionally, since we only care about positive locations we apply the mask to all intpus.\n",
    "        mask = foregroud_mask.squeeze()\n",
    "        reference_boxes = anchors[0][mask].squeeze()\n",
    "        target_boxes = all_gt_boxes_targets[0][mask].squeeze()\n",
    "        predicted_ctrness = bbox_ctrness.squeeze()[mask]\n",
    "        \n",
    "        # Then we translate given targets boxes from (xyxy) coordinates to (ltrb)\n",
    "        encoded = self.box_coder.encode_single(reference_boxes, target_boxes)\n",
    "\n",
    "        # We calculate centerness as in the FCOS paper\n",
    "        min_lr = torch.minimum(encoded[:,0], encoded[:,2])\n",
    "        max_lr = torch.maximum(encoded[:,0], encoded[:,2])\n",
    "        min_tb = torch.minimum(encoded[:,1], encoded[:,3])\n",
    "        max_tb = torch.maximum(encoded[:,1], encoded[:,3])\n",
    "        target_ctrness = torch.sqrt(torch.div(min_lr, max_lr) * torch.div(min_tb, max_tb))\n",
    "\n",
    "        # Here we could use either binary_cross_entropy or sigmoid_focal_loss\n",
    "        # If using BCE, we have to first apply sigmoid to predited_ctrness,\n",
    "        # since values there aren't necessarily from (0,1) range.\n",
    "        # During my testing, I found that focal loss yields slightly better results,\n",
    "        # than BCE, so I decided to use it instead.\n",
    "\n",
    "        # predicted_ctrness = torch.sigmoid(predicted_ctrness)\n",
    "        # return torch.nn.functional.binary_cross_entropy(predicted_ctrness, target_ctrness, reduction=\"sum\")\n",
    "        return sigmoid_focal_loss(predicted_ctrness, target_ctrness, reduction=\"sum\")\n",
    "        ################################################################################################\n",
    "\n",
    "    def compute_loss_bbox_reg(self, anchors, bbox_regression, all_gt_boxes_targets, foregroud_mask):\n",
    "        # TODO: your code here \n",
    "        # regression loss: GIoU loss\n",
    "        ################################################################################################\n",
    "        mask = foregroud_mask.squeeze()\n",
    "        reference_boxes = anchors[0][mask].squeeze()\n",
    "        positive_bboxes = bbox_regression.squeeze()[mask]\n",
    "        positive_targets = all_gt_boxes_targets[0][mask].squeeze()\n",
    "\n",
    "        # Here we have to translate head predictions from (ltrb) dimensions to (xyxy) coordinates\n",
    "        positive_decoded = self.box_coder.decode_single(positive_bboxes, reference_boxes)\n",
    "\n",
    "        # Then we return the GIoU loss on positive locations\n",
    "        return torchvision.ops.generalized_box_iou_loss(positive_decoded, positive_targets, reduction=\"sum\")\n",
    "\n",
    "        \n",
    "        ################################################################################################\n",
    "\n",
    "    def compute_loss_cls(self, cls_logits, all_gt_classes_targets, foregroud_mask):\n",
    "        # TODO: your code here \n",
    "        # classification loss\n",
    "        ################################################################################################\n",
    "\n",
    "        num_classes = cls_logits.size()[-1]\n",
    "        # We want to encode the targets with one hot encoding, except if on given locations there is background,\n",
    "        # we want it to be all zeros. To do that we first create zero tensor of appropriate shape\n",
    "        target = torch.zeros_like(cls_logits)\n",
    "        # The we calculate indexes of positive targets.\n",
    "        gt_positive_idxs = all_gt_classes_targets[foregroud_mask].long()\n",
    "        # We create one hot encoding on indexes of positive targets\n",
    "        target[foregroud_mask] = torch.nn.functional.one_hot(gt_positive_idxs, num_classes=num_classes).float()\n",
    "\n",
    "        # Finally we calcluate sigmoid_focal_loss\n",
    "        return sigmoid_focal_loss(cls_logits, target, reduction=\"sum\")\n",
    "        ################################################################################################\n",
    "\n",
    "    def forward(self, x: List[Tensor]) -> Dict[str, Tensor]:\n",
    "        cls_logits = self.classification_head(x)\n",
    "        bbox_regression, bbox_ctrness = self.regression_head(x)\n",
    "        return {\n",
    "            \"cls_logits\": cls_logits,\n",
    "            \"bbox_regression\": bbox_regression,\n",
    "            \"bbox_ctrness\": bbox_ctrness,\n",
    "        }"
   ]
  },
  {
   "cell_type": "markdown",
   "metadata": {
    "id": "gFYNzC9KOK-G"
   },
   "source": [
    "#### Post-processing (1 pt.)\n",
    "Fill the gaps in the postprocessing routine.\n",
    "The paper states: \n",
    "\n",
    "> (...) the final score (used for ranking the detected bounding boxes) \n",
    "> is computed by multiplying the predicted center-ness with the corresponding classification score. \n",
    "> Thus the center-ness can downweight the scores of bounding boxes far from the center of an object. \n",
    "> As a result, with high probability, these low-quality bounding boxes might be filtered out by \n",
    "> the final non-maximum suppression (NMS) process, improving the detection performance remarkably.\n",
    "\n",
    "1. Remove boxes with score smaller than `self.score_thresh`. The score is given by `sqrt`($\\sigma$(`classification_score`) * $\\sigma$(`cente-ness_score`)), where $\\sigma$ stands for the sigmoid function. (1pt.)\n",
    "2. Keep only top `self.topk_candidates` scoring predictions (1pt.)\n",
    "\n",
    "The `compute_loss` function here calculates the indexes of matched classes for each anchor/location for your convenience in later calculations."
   ]
  },
  {
   "cell_type": "code",
   "execution_count": 65,
   "metadata": {
    "id": "EB17o3zs1JiR"
   },
   "outputs": [],
   "source": [
    "class FCOS(nn.Module):\n",
    "\n",
    "    def __init__(\n",
    "        self,\n",
    "        backbone: nn.Module,\n",
    "        num_classes: int,\n",
    "        # transform parameters\n",
    "        image_mean: Optional[List[float]] = None,\n",
    "        image_std: Optional[List[float]] = None,\n",
    "        # Anchor parameters\n",
    "        anchor_generator: AnchorGenerator = None,\n",
    "        center_sampling_radius: float = 1.5,\n",
    "        score_thresh: float = 0.2,\n",
    "        nms_thresh: float = 0.6,\n",
    "        detections_per_img: int = 100,\n",
    "        topk_candidates: int = 1000,\n",
    "        num_convs_in_heads:int = 4,\n",
    "        **kwargs,\n",
    "    ):\n",
    "        super().__init__()\n",
    "\n",
    "        self.backbone = backbone\n",
    "        self.anchor_generator = anchor_generator\n",
    "        self.head = FCOSHead(backbone.out_channels, num_classes, num_convs=num_convs_in_heads)\n",
    "        self.box_coder = BoxLinearCoder(normalize_by_size=True)\n",
    "        self.transform = GeneralizedRCNNTransform(128, 128, image_mean, image_std, **kwargs)\n",
    "\n",
    "        self.center_sampling_radius = center_sampling_radius\n",
    "        self.score_thresh = score_thresh\n",
    "        self.nms_thresh = nms_thresh\n",
    "        self.detections_per_img = detections_per_img\n",
    "        self.topk_candidates = topk_candidates\n",
    "\n",
    "\n",
    "    def compute_loss(\n",
    "        self,\n",
    "        targets: List[Dict[str, Tensor]],\n",
    "        head_outputs: Dict[str, Tensor],\n",
    "        anchors: List[Tensor],\n",
    "        num_anchors_per_level: List[int],\n",
    "    ) -> Dict[str, Tensor]:\n",
    "        matched_idxs = []\n",
    "        for anchors_per_image, targets_per_image in zip(anchors, targets): # batch\n",
    "            if targets_per_image[\"boxes\"].numel() == 0:\n",
    "                matched_idxs.append(\n",
    "                    torch.full((anchors_per_image.size(0),), -1, dtype=torch.int64, device=anchors_per_image.device)\n",
    "                )\n",
    "                continue\n",
    "\n",
    "            gt_boxes = targets_per_image[\"boxes\"]\n",
    "            gt_centers = (gt_boxes[:, :2] + gt_boxes[:, 2:]) / 2  # Nx2                 # Calculate centres of bounding boxes\n",
    "            anchor_centers = (anchors_per_image[:, :2] + anchors_per_image[:, 2:]) / 2  # N  \n",
    "            anchor_sizes = anchors_per_image[:, 2] - anchors_per_image[:, 0]            # Match anchors\n",
    "            # center sampling: anchor point must be close enough to gt center.\n",
    "            pairwise_match = (anchor_centers[:, None, :] - gt_centers[None, :, :]).abs_().max(\n",
    "                dim=2\n",
    "            ).values < self.center_sampling_radius * anchor_sizes[:, None]\n",
    "            # compute pairwise distance between N points and M boxes\n",
    "            x, y = anchor_centers.unsqueeze(dim=2).unbind(dim=1)  # (N, 1)\n",
    "            x0, y0, x1, y1 = gt_boxes.unsqueeze(dim=0).unbind(dim=2)  # (1, M)\n",
    "            pairwise_dist = torch.stack([x - x0, y - y0, x1 - x, y1 - y], dim=2)  # (N, M)\n",
    "\n",
    "            # anchor point must be inside gt\n",
    "            pairwise_match &= pairwise_dist.min(dim=2).values > 0\n",
    "\n",
    "            # each anchor is only responsible for certain scale range.\n",
    "            lower_bound = anchor_sizes * 4\n",
    "            lower_bound[: num_anchors_per_level[0]] = 0\n",
    "            upper_bound = anchor_sizes * 8\n",
    "            upper_bound[-num_anchors_per_level[-1] :] = float(\"inf\")\n",
    "            pairwise_dist = pairwise_dist.max(dim=2).values\n",
    "            pairwise_match &= (pairwise_dist > lower_bound[:, None]) & (pairwise_dist < upper_bound[:, None])\n",
    "\n",
    "            # match the GT box with minimum area, if there are multiple GT matches\n",
    "            gt_areas = (gt_boxes[:, 2] - gt_boxes[:, 0]) * (gt_boxes[:, 3] - gt_boxes[:, 1])  # N\n",
    "            pairwise_match = pairwise_match.to(torch.float32) * (1e8 - gt_areas[None, :])\n",
    "            min_values, matched_idx = pairwise_match.max(dim=1)  # R, per-anchor match\n",
    "            matched_idx[min_values < 1e-5] = -1  # unmatched anchors are assigned -1\n",
    "\n",
    "            matched_idxs.append(matched_idx)\n",
    "        # end of your code\n",
    "        # matched index - anchor-to-target match\n",
    "        return self.head.compute_loss(targets, head_outputs, anchors, matched_idxs)\n",
    "\n",
    "    def postprocess_detections(\n",
    "        self, head_outputs: Dict[str, List[Tensor]], anchors: List[List[Tensor]], image_shapes: List[Tuple[int, int]]\n",
    "    ) -> List[Dict[str, Tensor]]:\n",
    "        class_logits = head_outputs[\"cls_logits\"]\n",
    "        box_regression = head_outputs[\"bbox_regression\"]\n",
    "        box_ctrness = head_outputs[\"bbox_ctrness\"]\n",
    "\n",
    "        \n",
    "        num_images = len(image_shapes)\n",
    "\n",
    "        detections: List[Dict[str, Tensor]] = []\n",
    "\n",
    "        for index in range(num_images):\n",
    "            box_regression_per_image = [br[index] for br in box_regression]\n",
    "            logits_per_image = [cl[index] for cl in class_logits]\n",
    "            box_ctrness_per_image = [bc[index] for bc in box_ctrness]\n",
    "            anchors_per_image, image_shape = anchors[index], image_shapes[index]\n",
    "\n",
    "            image_boxes = []\n",
    "            image_scores = []\n",
    "            image_labels = []\n",
    "\n",
    "            for box_regression_per_level, logits_per_level, box_ctrness_per_level, anchors_per_level in zip(\n",
    "                box_regression_per_image, logits_per_image, box_ctrness_per_image, anchors_per_image\n",
    "            ):\n",
    "                num_classes = logits_per_level.shape[-1]\n",
    "                \n",
    "                # TODO: your code here\n",
    "                # Remove low scoring boxes and keep only topk scoring predictions\n",
    "                ################################################################################################\n",
    "                \n",
    "                # First we calculate classification and centerness scores for each locatiom\n",
    "                classification_score, _ = torch.max(logits_per_level, dim=-1)\n",
    "                ctrness_score = torch.squeeze(box_ctrness_per_level)\n",
    "                # Then we calculate final score for each locations\n",
    "                scores_per_level = torch.sqrt(torch.sigmoid(ctrness_score) * torch.sigmoid(classification_score))\n",
    "\n",
    "                # We find topk best predictions\n",
    "                topk_values, topk_idxs = torch.topk(scores_per_level, self.topk_candidates, sorted=False)\n",
    "                # We find indexes of those of topk valus that are above the threshold and we filter them.\n",
    "                values_over_thres_idxs = topk_values >= self.score_thresh\n",
    "                topk_idxs = topk_idxs[values_over_thres_idxs]\n",
    "                scores_per_level = topk_values[values_over_thres_idxs]\n",
    "\n",
    "                # Then we have to encode information about label and anchor id in topk_idx variable\n",
    "                # (to match the rest of the code)\n",
    "                topk_idxs *= num_classes\n",
    "                topk_idxs += torch.argmax(logits_per_level[torch.div(topk_idxs, num_classes, rounding_mode=\"floor\")], dim=1)\n",
    "\n",
    "                ################################################################################################\n",
    "                # end of your code\n",
    "                anchor_idxs = torch.div(topk_idxs, num_classes, rounding_mode=\"floor\")\n",
    "                labels_per_level = topk_idxs % num_classes\n",
    "\n",
    "\n",
    "                boxes_per_level = self.box_coder.decode_single(\n",
    "                    box_regression_per_level[anchor_idxs], anchors_per_level[anchor_idxs]\n",
    "                )\n",
    "                boxes_per_level = box_ops.clip_boxes_to_image(boxes_per_level, image_shape)\n",
    "\n",
    "                image_boxes.append(boxes_per_level)\n",
    "                image_scores.append(scores_per_level)\n",
    "                image_labels.append(labels_per_level)\n",
    "\n",
    "            image_boxes = torch.cat(image_boxes, dim=0)\n",
    "            image_scores = torch.cat(image_scores, dim=0)\n",
    "            image_labels = torch.cat(image_labels, dim=0)\n",
    "\n",
    "            # non-maximum suppression\n",
    "            keep = box_ops.batched_nms(image_boxes, image_scores, image_labels, self.nms_thresh)\n",
    "            keep = keep[: self.detections_per_img]\n",
    "\n",
    "            detections.append(\n",
    "                {\n",
    "                    \"boxes\": image_boxes[keep],\n",
    "                    \"scores\": image_scores[keep],\n",
    "                    \"labels\": image_labels[keep],\n",
    "                }\n",
    "            )\n",
    "        return detections\n",
    "\n",
    "\n",
    "    def forward(\n",
    "        self,\n",
    "        images: List[Tensor],\n",
    "        targets: Optional[List[Dict[str, Tensor]]] = None,\n",
    "    ) -> Tuple[Dict[str, Tensor], List[Dict[str, Tensor]]]:\n",
    "        \"\"\"\n",
    "        Args:\n",
    "            images (list[Tensor]): images to be processed\n",
    "            targets (list[Dict[Tensor]]): ground-truth boxes present in the image (optional)\n",
    "\n",
    "        Returns:\n",
    "            result (list[BoxList] or dict[Tensor]): the output from the model.\n",
    "                During training, it returns a dict[Tensor] which contains the losses.\n",
    "                During testing, it returns list[BoxList] contains additional fields\n",
    "                like `scores`, `labels` and `mask` (for Mask R-CNN models).\n",
    "        \"\"\"\n",
    "        \n",
    "        # transform the input (normalise with std and )\n",
    "        images, targets = self.transform(images, targets)\n",
    "\n",
    "        # get the features from the backbone\n",
    "        features = self.backbone(images.tensors)\n",
    "        if isinstance(features, torch.Tensor):\n",
    "            features = OrderedDict([(\"0\", features)])\n",
    "        features = list(features.values())\n",
    "\n",
    "\n",
    "        # compute the fcos heads outputs using the features\n",
    "        head_outputs = self.head(features)\n",
    "\n",
    "        # create the set of anchors\n",
    "        anchors = self.anchor_generator(images, features)\n",
    "        # recover level sizes\n",
    "        num_anchors_per_level = [x.size(2) * x.size(3) for x in features]\n",
    "        \n",
    "        losses = {}\n",
    "        detections: List[Dict[str, Tensor]] = []\n",
    "        if self.training:\n",
    "            losses = self.compute_loss(targets, head_outputs, anchors, num_anchors_per_level)\n",
    "            return losses\n",
    "        else:\n",
    "            # split outputs per level\n",
    "            split_head_outputs: Dict[str, List[Tensor]] = {}\n",
    "            for k in head_outputs:\n",
    "                split_head_outputs[k] = list(head_outputs[k].split(num_anchors_per_level, dim=1))\n",
    "            split_anchors = [list(a.split(num_anchors_per_level)) for a in anchors]\n",
    "\n",
    "            # compute the detections\n",
    "            detections = self.postprocess_detections(split_head_outputs, split_anchors, images.image_sizes)\n",
    "            return detections"
   ]
  },
  {
   "cell_type": "markdown",
   "metadata": {
    "id": "xA1Nvz6jagyP"
   },
   "source": [
    "### Metrics and evaluation (2 pt.)\n",
    "\n",
    "#### Digit Accuracy (1 pt.)\n",
    "\n",
    "This method shoud accept `canvas: MnistCanvas` and `predicted_boxes: List[MnistBox]`, and output whether there is a direct matching between boxes from `MnistCanvas` and predictions. There is a direct matching if:\n",
    "\n",
    "- for all boxes from `canvas`, there exist precisely one box from `predicted_boxes` with a matching class and `iou` overlap greater than `0.5`,\n",
    "- the number of `canvas` boxes match `len(predicted_boxes)`.\n",
    "\n",
    "The method shoud output `1` if there is a matching and `0` otherwise.\n",
    "\n",
    "#### Evaluation function (1 pt.)\n",
    "\n",
    "Write an evaluation function for your model.\n",
    "If needed, perform the final NMS with `torchvision.ops.nms` (threshold at `iou`) and remove redundant boxes with scores smaller than `min_score`.\n",
    "Then, calculate the average `DigitAccuracy` for each.\n",
    "You may experiment with parameters for this method, but the default ones are fine (this is not subject of our grading).\n",
    "If you are fine what you achiveded with `postprocess_detections`, you may focus solely on evaluation (although playing with this second stage NMS and score thresholding might be useful for diagnostics).\n",
    "\n",
    "The output of the method is the average digit accuracy on the test set. \n",
    "Use it to track your model performance over epochs.\n",
    "\n",
    "In principle, you can use different `iou` and `min_score`, although it’d be slightly preferred to use the defaults here. It’ll ease the comparison, we were able to get around 60% in 15 epochs with these values. With that said, if you tune these values for your model to improve the score there will be no point lost.\n",
    "…unless you will do some sort of a hack to exploit the metric in a malicious way, but that will perhaps mean that there’s something wrong in other parts of the code."
   ]
  },
  {
   "cell_type": "code",
   "execution_count": 66,
   "metadata": {
    "id": "bfRZnbAP-XGG"
   },
   "outputs": [],
   "source": [
    "class DigitAccuracy:\n",
    "    def compute_metric  (\n",
    "        self,\n",
    "        predicted_boxes: List[MnistBox],\n",
    "        canvas: MnistCanvas,\n",
    "        iou: float = 0.5,\n",
    "    ):\n",
    "        # TODO: your code here\n",
    "        ################################################################################################\n",
    "        if len(predicted_boxes) != len(canvas.boxes):\n",
    "            return 0\n",
    "\n",
    "        for canvas_box in canvas.boxes:\n",
    "            found = False\n",
    "            for predicted_box in predicted_boxes:\n",
    "                if canvas_box.class_nb == predicted_box.class_nb and canvas_box.iou_with(predicted_box) > 0.5:\n",
    "                    if not found:\n",
    "                        found = True\n",
    "                    else:\n",
    "                        return 0.\n",
    "\n",
    "            if not found:\n",
    "                return 0.\n",
    "\n",
    "        return 1.\n",
    "        ################################################################################################\n",
    "        # end of your code\n",
    "\n",
    "def perform_nms_and_filtering(boxes, labels, scores, min_score=0.2, iou=0.05):\n",
    "    nms_idxs = torchvision.ops.nms(boxes, scores, iou)\n",
    "    nms_boxes = boxes[nms_idxs]\n",
    "    nms_scores = scores[nms_idxs]\n",
    "    nms_labels = labels[nms_idxs]\n",
    "    \n",
    "    filtered_idxs = nms_scores >= min_score\n",
    "    filtered_boxes = nms_boxes[filtered_idxs]\n",
    "    filtered_labels = nms_labels[filtered_idxs]\n",
    "\n",
    "    return (filtered_boxes, filtered_labels)\n",
    "\n",
    "\n",
    "def evaluate(model: nn.Module, TEST_CANVAS, min_score: float = .2, iou: float = .05) -> float:\n",
    "    # TODO: your code here\n",
    "    ################################################################################################\n",
    "    model.eval()\n",
    "    with torch.no_grad():\n",
    "        accuracy_sum = 0.\n",
    "        da = DigitAccuracy()\n",
    "        for canvas in TEST_CANVAS:\n",
    "            output = model(canvas.get_torch_tensor())\n",
    "            boxes = output[0][\"boxes\"]\n",
    "            labels = output[0][\"labels\"]\n",
    "            scores = output[0][\"scores\"]\n",
    "\n",
    "            new_boxes, new_labels = perform_nms_and_filtering(boxes, labels, scores, min_score, iou)\n",
    "            \n",
    "            mnist_boxes = [MnistBox(x_min=b[1].cpu(), y_min=b[0].cpu(), x_max=b[3].cpu(), y_max=b[2].cpu(), class_nb=l) \n",
    "                            for b, l in zip(new_boxes, new_labels)]\n",
    "            accuracy_sum += da.compute_metric(mnist_boxes, canvas)\n",
    "\n",
    "        return accuracy_sum / len(TEST_CANVAS)\n",
    "    ################################################################################################\n",
    "    # end of your code"
   ]
  },
  {
   "cell_type": "markdown",
   "metadata": {
    "id": "15n5w-hhvRbS"
   },
   "source": [
    "### Train your model (3pt)\n",
    "\n",
    "One should use all classes defined above to train the model.\n",
    "\n",
    "- Train the model. A passing threshold is `10%` of a `DigitAccuracy` on a `TEST_CANVAS` data (2 pt.).\n",
    "- Plot example results of matched and mismatched predictions (0.5 pt.).\n",
    "- Plot particular losses and evaluation score per (0.5 pt.).\n",
    "\n",
    "What does the target variable look like?\n",
    "So, as in the typehint, the target is `List[Dict[str, Tensor]]`. Assuming a 1-element batch, it should then be a 1-element list containing a dictionary with two keys: `boxes` and their corresponding `labels`. The values are tensors. Assuming that we have 5 boxes in GT, the shapes are `(5, 4)` for boxes and (5) for labels. Naturally, you have to fill these tensors using values from `MnistCanvas`.\n",
    "\n",
    "**Hint:** Training can take a while to achieve the expected accuracy. It is normal that for many epochs at the beginning accuracy is constantly $0$. Do not worry as long as the loss is on average decreasing across epochs. You may want to reduce number of digit classes (for example only to generate `0`s on canvas) to test the convergence (the hyperparameters might change, though!). A model with around 500k parameters should be able to hit 10% of the metric in 20 minutes (tested on a 2021 MacBook on CPU). On Google Colab with GPU it will be matter of 2 minutes, but notice that the free GPU is limited.\n",
    "\n",
    "**Hint:** Use the 1-element batches. Some portions of the code are not ready for higher values.\n",
    "\n",
    "**Even more important hint:** Pay attention to the ordering of the X/Y values of `get_torch_tensor` and align it with your target!\n",
    "\n",
    "Good luck and have fun!"
   ]
  },
  {
   "attachments": {},
   "cell_type": "markdown",
   "metadata": {},
   "source": [
    "### Training\n",
    "I trained the model with given Learning Rate of 0.0004 and SGD with 0.9 momentum parameter. The model learns quite fast, and with secondary NMS performed in evaluation function achieves the passing 10% of Digit Accuracy score in just couple of first epochs. In around 15 epochs model reaches 50% accuracy score and from there the learning slows down, so i decided to show only first 20 epochs below."
   ]
  },
  {
   "cell_type": "code",
   "execution_count": 67,
   "metadata": {
    "colab": {
     "base_uri": "https://localhost:8080/",
     "height": 683
    },
    "id": "eu9xbkaY1Jih",
    "outputId": "470ad327-0e02-4400-f6d7-57553307db05"
   },
   "outputs": [
    {
     "name": "stdout",
     "output_type": "stream",
     "text": [
      "EPOCH: 0 LOSS: 749.4025147557259 ACCURACY: 0.0\n",
      "EPOCH: 1 LOSS: 489.8090705871582 ACCURACY: 0.0\n",
      "EPOCH: 2 LOSS: 365.00047916173935 ACCURACY: 0.015625\n",
      "EPOCH: 3 LOSS: 332.91910368204117 ACCURACY: 0.09765625\n",
      "EPOCH: 4 LOSS: 311.1888400912285 ACCURACY: 0.17578125\n",
      "EPOCH: 5 LOSS: 295.8062909543514 ACCURACY: 0.1875\n",
      "EPOCH: 6 LOSS: 283.44696974754333 ACCURACY: 0.21875\n",
      "EPOCH: 7 LOSS: 271.4399752020836 ACCURACY: 0.28125\n",
      "EPOCH: 8 LOSS: 260.30170500278473 ACCURACY: 0.30859375\n",
      "EPOCH: 9 LOSS: 250.6074958741665 ACCURACY: 0.34765625\n",
      "EPOCH: 10 LOSS: 241.64565339684486 ACCURACY: 0.40625\n",
      "EPOCH: 11 LOSS: 233.3963701426983 ACCURACY: 0.44140625\n",
      "EPOCH: 12 LOSS: 226.6973482966423 ACCURACY: 0.44140625\n",
      "EPOCH: 13 LOSS: 220.87681061029434 ACCURACY: 0.46484375\n",
      "EPOCH: 14 LOSS: 215.63899785280228 ACCURACY: 0.46484375\n",
      "EPOCH: 15 LOSS: 210.4058373272419 ACCURACY: 0.5\n",
      "EPOCH: 16 LOSS: 205.97305208444595 ACCURACY: 0.51171875\n",
      "EPOCH: 17 LOSS: 201.62963142991066 ACCURACY: 0.5234375\n",
      "EPOCH: 18 LOSS: 197.46889871358871 ACCURACY: 0.50390625\n",
      "EPOCH: 19 LOSS: 193.8228964805603 ACCURACY: 0.52734375\n"
     ]
    }
   ],
   "source": [
    "import torch.optim as optim\n",
    "import torch\n",
    "import torchvision\n",
    "import pandas as pd\n",
    "import random\n",
    "\n",
    "TEST_SEED = 42 # DO NOT CHANGE THIS LINE.\n",
    "np.random.seed(TEST_SEED)\n",
    "\n",
    "N_TRAINING_EXAMPLES = 500\n",
    "LR = 0.0004 # for SGD with momentum=0.9\n",
    "EPOCHS = 20\n",
    "STRIDES = [32, 64, 128]\n",
    "CONVS_IN_HEADS = 4\n",
    "OUT_CHANNELS = 64\n",
    "LABELS = list(range(5)) # lower it for quick convergence testing\n",
    "DEVICE = torch.device('cuda' if torch.cuda.is_available() else 'cpu')\n",
    "\n",
    "TRAIN_CANVAS = [\n",
    "    get_random_canvas(\n",
    "        digits=TEST_DIGITS,\n",
    "        classes=TEST_CLASSES,\n",
    "        labels=LABELS,\n",
    "    )\n",
    "    for _ in range(N_TRAINING_EXAMPLES)\n",
    "]\n",
    "\n",
    "TEST_CANVAS_SIZE = 256\n",
    "\n",
    "\n",
    "TEST_CANVAS = [\n",
    "    get_random_canvas(\n",
    "        digits=TEST_DIGITS,\n",
    "        classes=TEST_CLASSES,\n",
    "        labels=LABELS,\n",
    "    )\n",
    "    for _ in range(TEST_CANVAS_SIZE)\n",
    "]\n",
    "\n",
    "anchor_sizes = tuple([(x,) for x in STRIDES])  # equal to strides of multi-level feature map\n",
    "aspect_ratios = ((1.0,),) * len(anchor_sizes)  # set only one \"anchor\" per location\n",
    "anchor_generator = AnchorGenerator(anchor_sizes, aspect_ratios)\n",
    "\n",
    "fcos = FCOS(\n",
    "    backbone = BackboneWithFPN(strides=STRIDES, out_channels=OUT_CHANNELS), \n",
    "    num_classes = len(LABELS), \n",
    "    image_mean = [0.0233],\n",
    "    image_std = [0.14],\n",
    "    num_convs_in_heads = CONVS_IN_HEADS, \n",
    "    anchor_generator = anchor_generator,\n",
    "    detections_per_img = 100,\n",
    "    )\n",
    "fcos.to(DEVICE)\n",
    "\n",
    "# TODO: write your code here\n",
    "################################################################################################\n",
    "\n",
    "def create_training_targets(canvas: List[MnistCanvas]):\n",
    "    with torch.no_grad():\n",
    "        targets = []\n",
    "        for c in canvas:\n",
    "            boxes = torch.stack([torch.Tensor([box.y_min, box.x_min, box.y_max, box.x_max]) for box in c.boxes]).to(DEVICE)\n",
    "            labels = torch.Tensor([box.class_nb for box in c.boxes]).to(DEVICE)\n",
    "            targets.append((c.get_torch_tensor(), {\"boxes\":boxes, \"labels\":labels}))\n",
    "        \n",
    "        return targets\n",
    "\n",
    "def draw_predictions(model, canvas: List[MnistCanvas], include_nms=True):\n",
    "    model.eval()\n",
    "    with torch.no_grad():\n",
    "        for c in canvas:\n",
    "            output = model(c.get_torch_tensor())\n",
    "            boxes = output[0][\"boxes\"].cpu()\n",
    "            labels = output[0][\"labels\"].cpu()\n",
    "            scores = output[0][\"scores\"].cpu()\n",
    "            if include_nms:\n",
    "                boxes, labels = perform_nms_and_filtering(boxes, labels, scores)\n",
    "            mnist_boxes = [MnistBox(x_min=b[1], y_min=b[0], x_max=b[3], y_max=b[2], class_nb=l) for b, l in zip(boxes, labels)]\n",
    "            new_canvas = MnistCanvas(c.image, mnist_boxes)\n",
    "            new_canvas.plot()\n",
    "            \n",
    "\n",
    "train_targets = create_training_targets(TRAIN_CANVAS)\n",
    "\n",
    "optimizer = torch.optim.SGD(fcos.parameters(), lr=LR, momentum=0.9)\n",
    "\n",
    "losses = []\n",
    "scores = []\n",
    "\n",
    "for epoch in range(EPOCHS):\n",
    "    fcos.train()\n",
    "    epoch_loss = 0\n",
    "    for (img, targets) in train_targets:\n",
    "        optimizer.zero_grad()\n",
    "\n",
    "        output = fcos(img, [targets])\n",
    "        cls_loss = output[\"classification\"]\n",
    "        bbox_reg = output[\"bbox_regression\"]\n",
    "        bbox_ctrness = output[\"bbox_ctrness\"]\n",
    "        \n",
    "        loss = cls_loss + bbox_reg + bbox_ctrness\n",
    "        epoch_loss += loss.item()\n",
    "        \n",
    "        loss.backward()\n",
    "        optimizer.step()\n",
    "\n",
    "    score = evaluate(fcos, TEST_CANVAS)\n",
    "    losses.append(epoch_loss)\n",
    "    scores.append(score)\n",
    "\n",
    "    print(\"EPOCH:\", epoch, \"LOSS:\", epoch_loss, \"ACCURACY:\", score)\n",
    "################################################################################################"
   ]
  },
  {
   "attachments": {},
   "cell_type": "markdown",
   "metadata": {},
   "source": [
    "### Visualization"
   ]
  },
  {
   "attachments": {},
   "cell_type": "markdown",
   "metadata": {},
   "source": [
    "First we will see a collection of random 5 images from TEST_CANVAS, without additional NMS:"
   ]
  },
  {
   "cell_type": "code",
   "execution_count": 98,
   "metadata": {},
   "outputs": [
    {
     "data": {
      "image/png": "[encoded data removed]",
      "text/plain": [
       "<Figure size 432x288 with 1 Axes>"
      ]
     },
     "metadata": {
      "needs_background": "light"
     },
     "output_type": "display_data"
    },
    {
     "data": {
      "image/png": "[encoded data removed]",
      "text/plain": [
       "<Figure size 432x288 with 1 Axes>"
      ]
     },
     "metadata": {
      "needs_background": "light"
     },
     "output_type": "display_data"
    },
    {
     "data": {
      "image/png": "[encoded data removed]",
      "text/plain": [
       "<Figure size 432x288 with 1 Axes>"
      ]
     },
     "metadata": {
      "needs_background": "light"
     },
     "output_type": "display_data"
    },
    {
     "data": {
      "image/png": "[encoded data removed]",
      "text/plain": [
       "<Figure size 432x288 with 1 Axes>"
      ]
     },
     "metadata": {
      "needs_background": "light"
     },
     "output_type": "display_data"
    },
    {
     "data": {
      "image/png": "[encoded data removed]",
      "text/plain": [
       "<Figure size 432x288 with 1 Axes>"
      ]
     },
     "metadata": {
      "needs_background": "light"
     },
     "output_type": "display_data"
    }
   ],
   "source": [
    "random_canvas = random.sample(TEST_CANVAS, 5)\n",
    "draw_predictions(fcos, random_canvas, include_nms=False)"
   ]
  },
  {
   "attachments": {},
   "cell_type": "markdown",
   "metadata": {},
   "source": [
    "Now let's look at the same 5 predictions, with additional NMS turned on:"
   ]
  },
  {
   "cell_type": "code",
   "execution_count": 99,
   "metadata": {},
   "outputs": [
    {
     "data": {
      "image/png": "[encoded data removed]",
      "text/plain": [
       "<Figure size 432x288 with 1 Axes>"
      ]
     },
     "metadata": {
      "needs_background": "light"
     },
     "output_type": "display_data"
    },
    {
     "data": {
      "image/png": "[encoded data removed]",
      "text/plain": [
       "<Figure size 432x288 with 1 Axes>"
      ]
     },
     "metadata": {
      "needs_background": "light"
     },
     "output_type": "display_data"
    },
    {
     "data": {
      "image/png": "[encoded data removed]",
      "text/plain": [
       "<Figure size 432x288 with 1 Axes>"
      ]
     },
     "metadata": {
      "needs_background": "light"
     },
     "output_type": "display_data"
    },
    {
     "data": {
      "image/png": "[encoded data removed]",
      "text/plain": [
       "<Figure size 432x288 with 1 Axes>"
      ]
     },
     "metadata": {
      "needs_background": "light"
     },
     "output_type": "display_data"
    },
    {
     "data": {
      "image/png": "[encoded data removed]",
      "text/plain": [
       "<Figure size 432x288 with 1 Axes>"
      ]
     },
     "metadata": {
      "needs_background": "light"
     },
     "output_type": "display_data"
    }
   ],
   "source": [
    "draw_predictions(fcos, random_canvas, include_nms=True)"
   ]
  },
  {
   "attachments": {},
   "cell_type": "markdown",
   "metadata": {},
   "source": [
    "As we can see, with default values NMS in the model produces a lot of overlapping boxes over each digit. Second round of NMS, with stricter parameters solves this problem very well, and produces much better results. Of course there are still quite a few mismatched examples, but generally models performs pretty well, after secondary NMS."
   ]
  },
  {
   "attachments": {},
   "cell_type": "markdown",
   "metadata": {},
   "source": [
    "### Plotting\n",
    "Let's plot model losses, and accuriacies per epoch"
   ]
  },
  {
   "cell_type": "code",
   "execution_count": 100,
   "metadata": {},
   "outputs": [
    {
     "data": {
      "image/png": "[encoded data removed]",
      "text/plain": [
       "<Figure size 432x288 with 1 Axes>"
      ]
     },
     "metadata": {
      "needs_background": "light"
     },
     "output_type": "display_data"
    },
    {
     "data": {
      "image/png": "[encoded data removed]",
      "text/plain": [
       "<Figure size 432x288 with 1 Axes>"
      ]
     },
     "metadata": {
      "needs_background": "light"
     },
     "output_type": "display_data"
    }
   ],
   "source": [
    "import matplotlib.pyplot as plt\n",
    "\n",
    "plt.plot(losses)\n",
    "plt.title(\"Loss per epoch\")\n",
    "plt.xticks(range(0, len(losses)))\n",
    "plt.show()\n",
    "\n",
    "\n",
    "plt.plot(scores)\n",
    "plt.title(\"Digit Accuracy score per epoch\")\n",
    "plt.xticks(range(0, len(scores)))\n",
    "plt.show()"
   ]
  },
  {
   "attachments": {},
   "cell_type": "markdown",
   "metadata": {},
   "source": [
    "As expected we can see loss decreasing very fast at the beginning of learning, with that decrease slowing later. Similarly we can see that Digit Accuracy is increaseing fast in the first few epochs, to slow down later."
   ]
  }
 ],
 "metadata": {
  "accelerator": "GPU",
  "colab": {
   "collapsed_sections": [
    "5qdCBH9PkT2C",
    "JkOLl12nkiI8",
    "xA1Nvz6jagyP"
   ],
   "provenance": []
  },
  "gpuClass": "standard",
  "kernelspec": {
   "display_name": "Python 3",
   "language": "python",
   "name": "python3"
  },
  "language_info": {
   "codemirror_mode": {
    "name": "ipython",
    "version": 3
   },
   "file_extension": ".py",
   "mimetype": "text/x-python",
   "name": "python",
   "nbconvert_exporter": "python",
   "pygments_lexer": "ipython3",
   "version": "3.9.6"
  },
  "vscode": {
   "interpreter": {
    "hash": "9c84e086bb7f5d047aab5ead737d3553258cebfdec8066ad6a791077fa8b0b46"
   }
  }
 },
 "nbformat": 4,
 "nbformat_minor": 0
}
